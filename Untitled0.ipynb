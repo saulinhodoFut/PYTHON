{
  "nbformat": 4,
  "nbformat_minor": 0,
  "metadata": {
    "colab": {
      "provenance": [],
      "authorship_tag": "ABX9TyO/K+qarsR3XaFkNyeTlDGy",
      "include_colab_link": true
    },
    "kernelspec": {
      "name": "python3",
      "display_name": "Python 3"
    },
    "language_info": {
      "name": "python"
    }
  },
  "cells": [
    {
      "cell_type": "markdown",
      "metadata": {
        "id": "view-in-github",
        "colab_type": "text"
      },
      "source": [
        "<a href=\"https://colab.research.google.com/github/saulinhodoFut/PYTHON/blob/main/Untitled0.ipynb\" target=\"_parent\"><img src=\"https://colab.research.google.com/assets/colab-badge.svg\" alt=\"Open In Colab\"/></a>"
      ]
    },
    {
      "cell_type": "markdown",
      "source": [
        "#**AULA 1** ❄ ☁ 💧"
      ],
      "metadata": {
        "id": "nDyfZDK4geUF"
      }
    },
    {
      "cell_type": "code",
      "source": [
        "ano = \"II\"\n",
        "print(f\"{ano} competição de programação da Start\")\n",
        "print(\"I competição de programação da Start\")\n"
      ],
      "metadata": {
        "colab": {
          "base_uri": "https://localhost:8080/"
        },
        "id": "saWvWrl6hWhG",
        "outputId": "67470507-f4cb-4ff6-d7d3-d5579dd8a9b0"
      },
      "execution_count": 2,
      "outputs": [
        {
          "output_type": "stream",
          "name": "stdout",
          "text": [
            "II competição de programação da Start\n",
            "I competição de programação da Start\n"
          ]
        }
      ]
    },
    {
      "cell_type": "markdown",
      "source": [
        "#**AULA 2** ⚓:"
      ],
      "metadata": {
        "id": "FtWzBNWvjhd3"
      }
    }
  ]
}